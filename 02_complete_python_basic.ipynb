{
 "cells": [
  {
   "cell_type": "markdown",
   "metadata": {},
   "source": [
    "# 02_python_basic\n",
    "\n",
    "###  1- First program"
   ]
  },
  {
   "cell_type": "code",
   "execution_count": 35,
   "metadata": {},
   "outputs": [
    {
     "name": "stdout",
     "output_type": "stream",
     "text": [
      "5\n",
      "heloo world\n",
      "we are learning python with ammar\n"
     ]
    }
   ],
   "source": [
    "print(2+3)\n",
    "print('heloo world')\n",
    "print(\"we are learning python with ammar\")\n"
   ]
  },
  {
   "cell_type": "markdown",
   "metadata": {},
   "source": [
    "  ### 2- operator"
   ]
  },
  {
   "cell_type": "code",
   "execution_count": 36,
   "metadata": {},
   "outputs": [
    {
     "name": "stdout",
     "output_type": "stream",
     "text": [
      "3\n",
      "2\n",
      "3.0\n",
      "3\n",
      "6\n",
      "1\n",
      "8\n",
      "6.5\n"
     ]
    }
   ],
   "source": [
    "print(2+1)\n",
    "print(3-1)\n",
    "print(6/2) # it will give value in floating number but if we need a value in integer then we use this sign //.\n",
    "print(6//2) # it will give value in integers\n",
    "print(2*3) # Histaric sign(*) are used for multiplication. \n",
    "print(13%2) # This sign(%) is used for reminder.Reminder mean that after the division the value is remaining is called reminder\n",
    "print(2**3) # Double histaric(**) are used for power.\n",
    "\n",
    "print(3**2/2*3/3+6-4) # python run this code by this sequence\n",
    "                      # PEMDAS\n",
    "                      # parenthesis exponents multiply divide addition substraction\n",
    "                      # and left to right for M D & A S"
   ]
  },
  {
   "cell_type": "markdown",
   "metadata": {},
   "source": [
    " ### 3- string\n",
    "   - string are the word that write in quotation marks."
   ]
  },
  {
   "cell_type": "code",
   "execution_count": 37,
   "metadata": {},
   "outputs": [
    {
     "name": "stdout",
     "output_type": "stream",
     "text": [
      "test for single quote string\n",
      "test for double quote string\n",
      "test for triple quote string\n",
      "what's up\n"
     ]
    }
   ],
   "source": [
    "print('test for single quote string') # string are the word that write inside the quotation marks.\n",
    "print(\"test for double quote string\")\n",
    "print('''test for triple quote string''')\n",
    "\n",
    "print(\"what's up\") # need of double string."
   ]
  },
  {
   "cell_type": "markdown",
   "metadata": {},
   "source": [
    "### 4- comments\n",
    " - Two method to coomment out a code\n",
    "   - 1) use the hashtag in front of code\n",
    "   - 2) select a line of code and use a keyboard shortcut ( ctrl + /)"
   ]
  },
  {
   "cell_type": "code",
   "execution_count": 38,
   "metadata": {},
   "outputs": [],
   "source": [
    "#print('how are you') # comment the code byb using hashtag.\n",
    "# print('we are learning python with ammar') # comment the code by using shorcut ctrl + /."
   ]
  },
  {
   "cell_type": "markdown",
   "metadata": {},
   "source": [
    "### 5- variables\n",
    "- variables are containing specific value\n",
    "\n",
    " - Rules to asign a variable\n",
    "   - 1- The variable should contains letters, number or underscore.\n",
    "   - 2- Do not start with numbers\n",
    "   - 3- Spaces are not allowed.\n",
    "   - 4- Do not use keywords in variable that used in built in function(break, mean, media,test,etc and also check on gogle.)\n",
    "   - 5- short and descriptive.\n",
    "   - 6- case senstivity(lowercase, uppercase letters , lowercase letters should be prefered)\n"
   ]
  },
  {
   "cell_type": "code",
   "execution_count": 39,
   "metadata": {},
   "outputs": [
    {
     "name": "stdout",
     "output_type": "stream",
     "text": [
      "5\n",
      "we are learning python with baba ammar\n",
      "15\n",
      "we are learning python with baba ammar and codenics channel\n",
      "<class 'int'>\n",
      "<class 'str'>\n"
     ]
    }
   ],
   "source": [
    "x = 5 # x is variable and its a numeric or integer variable\n",
    "print(x)\n",
    "y = 'we are learning python with baba ammar' # y is a variable and its a string vaiable\n",
    "print(y)\n",
    "\n",
    "# update the value of x\n",
    "x = x + 10 # add the recent value of x in 10 \n",
    "print(x)\n",
    "\n",
    "#update the y string\n",
    "y = y+' and codenics channel'\n",
    "print(y)\n",
    "\n",
    "#How to check the types of variable\n",
    "\n",
    "type(x)\n",
    "print(type(x)) # check the type of x variable\n",
    "print(type(y)) # check the type of y variable\n",
    "\n"
   ]
  },
  {
   "cell_type": "markdown",
   "metadata": {},
   "source": [
    "### 6- input variables"
   ]
  },
  {
   "cell_type": "code",
   "execution_count": 40,
   "metadata": {},
   "outputs": [
    {
     "name": "stdout",
     "output_type": "stream",
     "text": [
      "Heloo! Ali hassan you are 21 year old and you are living in Sahiwal and your insititute name is univerisity of agriculture faisalabad\n"
     ]
    }
   ],
   "source": [
    "           #Input function simple\n",
    "\n",
    "# fruit_basket = input('what is your favourite fruit? ')\n",
    "# print(fruit_basket)\n",
    "\n",
    "           #Input function of 2nd satge\n",
    "\n",
    "# name = input('what is your name')\n",
    "# greetings = 'Heloo!'\n",
    "# print(greetings,name)\n",
    "\n",
    "           #another way of doing 2nd stage function and got a same result\n",
    "\n",
    "# name = input('what is your name? ')\n",
    "# print('Heloo!',name)\n",
    "\n",
    "            #3rd stage function\n",
    "\n",
    "# name = input('what is your name')\n",
    "# age = input('How old are you? ')\n",
    "# greetings = 'Heloo!'\n",
    "# print(greetings, name,', you are still young')\n",
    "\n",
    "             #My own input variable practice code\n",
    "\n",
    "name = input('what is your name? ')\n",
    "age = input('How old are you')\n",
    "place_living = input('where are you live')\n",
    "univerisity_name = input('write the name of your insititute')\n",
    "print('Heloo!',name,\"you are\",age,\"year old\",\"and you are living in\",place_living,'and your insititute name is',univerisity_name)\n"
   ]
  },
  {
   "cell_type": "markdown",
   "metadata": {},
   "source": [
    "### 7- conditional logics\n",
    " - logical operators are either \"true or false\",\"yess or no\",\"0 or 1\""
   ]
  },
  {
   "cell_type": "code",
   "execution_count": 8,
   "metadata": {},
   "outputs": [
    {
     "name": "stdout",
     "output_type": "stream",
     "text": [
      "True\n",
      "False\n",
      "True\n",
      "False\n",
      "True\n",
      "True\n",
      "False\n",
      "<class 'int'>\n",
      "True\n"
     ]
    }
   ],
   "source": [
    "                # Signs of logical operator\n",
    "\n",
    "#equal to                           ==\n",
    "#not equal to                       !=\n",
    "#less than                           <\n",
    "#greater than                        >\n",
    "#less than and equal to              <=\n",
    "#greater than and equal to           >=\n",
    "\n",
    "                # Use of logical operator\n",
    "\n",
    "print(4==4)      # is 4 is equal to 4\n",
    "print(4!=4)      # is 4 is not equal to 4\n",
    "print(4>3)       # is 4 is greater than 3\n",
    "print(3>6)       # is 3 is greater than 6\n",
    "print(3<=5)      # is 3 is less than and equal to 5\n",
    "print(5>=4)      # is 5 is greater than and equal to 4\n",
    "\n",
    "            \n",
    "                # application of logical operator\n",
    "\n",
    "hammad_age = 4\n",
    "age_at_school = 5\n",
    "print(hammad_age==age_at_school)\n",
    "\n",
    "                # input function and logical operator\n",
    "\n",
    "age_at_school = 5\n",
    "hammad_age = input('How old is hammad? ') #use of input function\n",
    "hammad_age=int(hammad_age)                #change the type from string to int \n",
    "print(type(hammad_age))                   #check the type of variable hammad_age\n",
    "print(hammad_age==age_at_school)"
   ]
  },
  {
   "cell_type": "markdown",
   "metadata": {},
   "source": [
    "### 8- type conversion\n",
    "  "
   ]
  },
  {
   "cell_type": "code",
   "execution_count": 20,
   "metadata": {},
   "outputs": [
    {
     "name": "stdout",
     "output_type": "stream",
     "text": [
      "10.2 <class 'float'>\n",
      "<class 'int'>\n",
      "Ali Hassan <class 'str'>\n"
     ]
    }
   ],
   "source": [
    "x = 5            # Integer\n",
    "y = 5.2         # Float\n",
    "z = 'hello'     # String\n",
    "\n",
    "             #implict type conversion\n",
    "                   # (implict type conversion mean that change the \n",
    "                 #  the type of value by multiplying 2 values or adding two value )\n",
    "x = x+y\n",
    "print(x,type(x))\n",
    "\n",
    "              #explicit type conversion\n",
    "               # - Two type method to change type conversion\n",
    "\n",
    "age=input('what is your age')\n",
    "# age=int(age)                      # method 1\n",
    "print(type(int(age)))               # method 2\n",
    "\n",
    "                #name\n",
    "name=input('what is your name')   # use of input function\n",
    "\n",
    "print(name,type(str(name)))       # use method 2 for type conversion\n",
    "\n"
   ]
  },
  {
   "cell_type": "markdown",
   "metadata": {},
   "source": [
    "### 9- if else & elif"
   ]
  },
  {
   "cell_type": "code",
   "execution_count": 29,
   "metadata": {},
   "outputs": [
    {
     "name": "stdout",
     "output_type": "stream",
     "text": [
      "hammad can go to school\n"
     ]
    }
   ],
   "source": [
    "hammad_age = 5\n",
    "age_requires_at_school = 5\n",
    "if hammad_age==age_requires_at_school:\n",
    "    print('hammad can go to school')\n",
    "elif hammad_age<=3:\n",
    "    print('should take care of hammad, he is still a baby')\n",
    "elif hammad_age>=10:\n",
    "    print('hammad can join college')\n",
    "else:\n",
    "    print('hammad can not go to school')\n",
    "\n",
    "\n"
   ]
  },
  {
   "cell_type": "markdown",
   "metadata": {},
   "source": [
    "### 10- functions"
   ]
  },
  {
   "cell_type": "code",
   "execution_count": 46,
   "metadata": {},
   "outputs": [
    {
     "name": "stdout",
     "output_type": "stream",
     "text": [
      "30\n"
     ]
    }
   ],
   "source": [
    "            #1 method\n",
    "# def print_codanics():\n",
    "#     print('we are learning python with baba ammar')\n",
    "#     print('we are learning python with baba ammar')\n",
    "#     print('we are learning python with baba ammar')\n",
    "# print_codanics()\n",
    "\n",
    "            #2 method\n",
    "# def print_codanics():\n",
    "#     text='we are learning python with baba ammar'\n",
    "#     print(text)\n",
    "#     print(text)\n",
    "#     print(text)\n",
    "# print_codanics()\n",
    "\n",
    "            #3 method\n",
    "# def print_codanics(text):\n",
    "#     print(text)\n",
    "#     print(text)\n",
    "#     print(text)\n",
    "# print_codanics('we are learing python with baba ammar')\n",
    "\n",
    "        #defining a function with if,elif & else\n",
    "\n",
    "# def school_calculator(age):\n",
    "#     if age==5:\n",
    "#         print('hammad can join the school')\n",
    "#     elif age>7:\n",
    "#         print('hammad can join college')\n",
    "#     else:\n",
    "#         print('hammad is still a baby')\n",
    "# school_calculator(9)\n",
    "\n",
    "\n",
    "                # defining a function of future age\n",
    "\n",
    "def future_age(age):\n",
    "    new_age=age+20\n",
    "    return new_age\n",
    "    print(new_age)\n",
    "predicted_future_age=future_age(10)\n",
    "print(predicted_future_age)"
   ]
  },
  {
   "cell_type": "markdown",
   "metadata": {},
   "source": [
    "### 11- Loops\n",
    " - Two types of loops\n",
    "    - 1- while\n",
    "    - 2- for"
   ]
  },
  {
   "cell_type": "code",
   "execution_count": 58,
   "metadata": {},
   "outputs": [
    {
     "name": "stdout",
     "output_type": "stream",
     "text": [
      "mon\n",
      "tues\n",
      "wed\n",
      "thir\n",
      "sat\n",
      "sun\n"
     ]
    }
   ],
   "source": [
    "                #while loops\n",
    "# x=0\n",
    "# while (x<=5):  # use of while loop\n",
    "#     print(x)\n",
    "#     x=x+1      # this code will use to stop the value when it is equal to 5 \n",
    "               # otherwise it will not stop and continue to 0000000000.\n",
    "\n",
    "        #for loop\n",
    "\n",
    "# for x in range(1,11):   \n",
    "#     print(x)\n",
    "\n",
    "    #array\n",
    "    \n",
    "days=['mon','tues','wed','thir','fri','sat','sun']\n",
    "for d in days:\n",
    "    #if (d=='fri'):break  # break are use to stop a loop when d is == fri\n",
    "    if (d=='fri'):continue  #continue are use to when d is equal to fri it will skip fri and continue \n",
    "    print(d)\n",
    "\n"
   ]
  },
  {
   "cell_type": "markdown",
   "metadata": {},
   "source": [
    "### 12- import libraries"
   ]
  },
  {
   "cell_type": "code",
   "execution_count": 60,
   "metadata": {},
   "outputs": [
    {
     "name": "stdout",
     "output_type": "stream",
     "text": [
      "the value of pi is 3.141592653589793\n",
      "118.4\n"
     ]
    }
   ],
   "source": [
    "#if you want to print the value of pi\n",
    "import math\n",
    "print('the value of pi is',math.pi)\n",
    "\n",
    "import statistics\n",
    "x=[250,130,90,45,77]\n",
    "print(statistics.mean(x))"
   ]
  }
 ],
 "metadata": {
  "interpreter": {
   "hash": "2f803de3382bef910abc9436aaa18167af5ad717424472dd02421afdedc6bc3b"
  },
  "kernelspec": {
   "display_name": "Python 3.10.2 64-bit",
   "language": "python",
   "name": "python3"
  },
  "language_info": {
   "codemirror_mode": {
    "name": "ipython",
    "version": 3
   },
   "file_extension": ".py",
   "mimetype": "text/x-python",
   "name": "python",
   "nbconvert_exporter": "python",
   "pygments_lexer": "ipython3",
   "version": "3.10.2"
  },
  "orig_nbformat": 4
 },
 "nbformat": 4,
 "nbformat_minor": 2
}
