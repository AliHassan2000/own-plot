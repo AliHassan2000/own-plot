{
 "cells": [
  {
   "cell_type": "markdown",
   "metadata": {},
   "source": [
    "## 04- indexing"
   ]
  },
  {
   "cell_type": "code",
   "execution_count": 16,
   "metadata": {},
   "outputs": [
    {
     "name": "stdout",
     "output_type": "stream",
     "text": [
      "somosa pakora\n",
      "13\n"
     ]
    },
    {
     "data": {
      "text/plain": [
       "'kor'"
      ]
     },
     "execution_count": 16,
     "metadata": {},
     "output_type": "execute_result"
    }
   ],
   "source": [
    "            #make a string\n",
    "\n",
    "a = 'somosa pakora'    #a is variable and somosa pokara is a string\n",
    "print(a)\n",
    "\n",
    "            #check the length of string\n",
    "             \n",
    "print(len(a))\n",
    "\n",
    "#indexing\n",
    "\n",
    "# a[2]                  #show the character number 2\n",
    "# a[0:13]               #show the number between 0 to 13\n",
    "a=[-1]                  #show the last degit \n",
    "a[-4:-1]                #show the last digit but left to right\n"
   ]
  },
  {
   "cell_type": "code",
   "execution_count": 27,
   "metadata": {},
   "outputs": [
    {
     "name": "stdout",
     "output_type": "stream",
     "text": [
      "byrani\n",
      "Byrani\n",
      "BYRANI\n",
      "byrani\n",
      "shyrani\n",
      "1\n",
      "4\n"
     ]
    }
   ],
   "source": [
    "food = 'byrani'\n",
    "print(food)\n",
    "\n",
    "                #strings method\n",
    "\n",
    "len(food)                           #to check the length of variable\n",
    "print(food.capitalize())            # .capitalize are used to capital the first word of string.\n",
    "print(food.upper())                 #.upper are used to capital all the words.\n",
    "print(food.lower())                 #.lower are used to lower case of all the words\n",
    "print(food.replace('b','sh'))       # the b of byrani are replace with sh\n",
    "print(food.count('a'))              # .count are used to count a specific alphabet that how many time it will present  in a string.\n",
    "print(food.find('n'))               # finding a index number in a string(k n string ma kis number pa majood h)"
   ]
  },
  {
   "cell_type": "code",
   "execution_count": 31,
   "metadata": {},
   "outputs": [
    {
     "data": {
      "text/plain": [
       "['i love byrani', ' somosa', ' pokora', ' jalabi and chay']"
      ]
     },
     "execution_count": 31,
     "metadata": {},
     "output_type": "execute_result"
    }
   ],
   "source": [
    "#split a string\n",
    "food = 'i love byrani, somosa, pokora, jalabi and chay'\n",
    "food.split(\",\")  #split a string on comma (,) basis."
   ]
  }
 ],
 "metadata": {
  "interpreter": {
   "hash": "2f803de3382bef910abc9436aaa18167af5ad717424472dd02421afdedc6bc3b"
  },
  "kernelspec": {
   "display_name": "Python 3.10.2 64-bit",
   "language": "python",
   "name": "python3"
  },
  "language_info": {
   "codemirror_mode": {
    "name": "ipython",
    "version": 3
   },
   "file_extension": ".py",
   "mimetype": "text/x-python",
   "name": "python",
   "nbconvert_exporter": "python",
   "pygments_lexer": "ipython3",
   "version": "3.10.2"
  },
  "orig_nbformat": 4
 },
 "nbformat": 4,
 "nbformat_minor": 2
}
