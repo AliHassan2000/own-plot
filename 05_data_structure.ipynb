{
 "cells": [
  {
   "cell_type": "markdown",
   "metadata": {},
   "source": [
    "### Basic Datas structures in python\n",
    " #### They are 4 types\n",
    "   - Tuples\n",
    "   - List\n",
    "   - Dict\n",
    "   - Set\n"
   ]
  },
  {
   "cell_type": "markdown",
   "metadata": {},
   "source": [
    "---"
   ]
  },
  {
   "cell_type": "markdown",
   "metadata": {},
   "source": [
    "- Tuples\n",
    "   - ordered collection of elements\n",
    "   - enclosed in round brackets () / paranthesis\n",
    "   - Differernt kind of elements can be stored\n",
    "   - ones element are stored you can't change them(unmutable)\n"
   ]
  },
  {
   "cell_type": "code",
   "execution_count": 10,
   "metadata": {},
   "outputs": [
    {
     "name": "stdout",
     "output_type": "stream",
     "text": [
      "(1, 'python', True, 2.5)\n",
      "<class 'tuple'>\n",
      "python\n",
      "(1, 'python', True, 2.5)\n"
     ]
    },
    {
     "data": {
      "text/plain": [
       "4"
      ]
     },
     "execution_count": 10,
     "metadata": {},
     "output_type": "execute_result"
    }
   ],
   "source": [
    "#creating a tuple and store different kind of elements like floating number,int,str or bolean operator.\n",
    "tup1 = (1,'python',True,2.5)\n",
    "print(tup1)\n",
    "\n",
    "#to check the type of tuple\n",
    "print(type(tup1))\n",
    "\n",
    "#indexing in tuple\n",
    "print(tup1[1])\n",
    "print(tup1[0:4])\n",
    "\n",
    "#to check the length of tup that how many elements are present in tup1.\n",
    "len(tup1)\n"
   ]
  },
  {
   "cell_type": "code",
   "execution_count": 14,
   "metadata": {},
   "outputs": [
    {
     "name": "stdout",
     "output_type": "stream",
     "text": [
      "(2, 'babaAmmar', 3.9, False)\n",
      "(1, 'python', True, 2.5, 2, 'babaAmmar', 3.9, False)\n",
      "(1, 'python', True, 2.5, 1, 'python', True, 2.5, 2, 'babaAmmar', 3.9, False)\n"
     ]
    }
   ],
   "source": [
    "#creating a tup2\n",
    "tup2=(2,'babaAmmar',3.9,False)\n",
    "print(tup2)\n",
    "\n",
    "#concatinate(concatinate mean to add 2 tuple)\n",
    "print(tup1+tup2)\n",
    "\n",
    "#concatinante + repeat(repeat mean multiplying or multiplying mean repeat)\n",
    "print(tup1*2+tup2)          # muptiply mean to repeat value for 2 times"
   ]
  },
  {
   "cell_type": "code",
   "execution_count": 18,
   "metadata": {},
   "outputs": [
    {
     "name": "stdout",
     "output_type": "stream",
     "text": [
      "(100.9, 0, 500, 25)\n",
      "0\n",
      "500\n"
     ]
    },
    {
     "data": {
      "text/plain": [
       "(100.9, 0, 500, 25, 100.9, 0, 500, 25)"
      ]
     },
     "execution_count": 18,
     "metadata": {},
     "output_type": "execute_result"
    }
   ],
   "source": [
    "#creating a tupple\n",
    "tup3=(100.9,0,500,25)\n",
    "print(tup3)\n",
    "\n",
    "#to check the minimum value in tuple\n",
    "print(min(tup3))\n",
    "\n",
    "#to check the maximum value in tuple\n",
    "print(max(tup3))\n",
    "\n",
    "#multiply tup3\n",
    "tup3*2 # it means tup3 value repeated 2 times"
   ]
  },
  {
   "cell_type": "markdown",
   "metadata": {},
   "source": [
    "---"
   ]
  },
  {
   "cell_type": "markdown",
   "metadata": {},
   "source": [
    "### List\n",
    " - ordered collection of elements\n",
    " - enclosed in square brackets[ ]\n",
    " - Mutateable(you can change the values)"
   ]
  },
  {
   "cell_type": "code",
   "execution_count": 38,
   "metadata": {},
   "outputs": [
    {
     "name": "stdout",
     "output_type": "stream",
     "text": [
      "[2, 'babaAmmar', False]\n",
      "<class 'list'>\n",
      "3\n",
      "False\n"
     ]
    }
   ],
   "source": [
    "#creating a list\n",
    "list1=[2,'babaAmmar',False]\n",
    "print(list1)\n",
    "\n",
    "#check the type of list\n",
    "print(type(list1))\n",
    "\n",
    "#check the length of list\n",
    "print(len(list1))\n",
    "\n",
    "#indexing in list\n",
    "print(list1[2])"
   ]
  },
  {
   "cell_type": "code",
   "execution_count": 39,
   "metadata": {},
   "outputs": [
    {
     "name": "stdout",
     "output_type": "stream",
     "text": [
      "[3, 4, 'ammar', 'codenics', 478, 53.3, False]\n",
      "[2, 'babaAmmar', False, 3, 4, 'ammar', 'codenics', 478, 53.3, False]\n",
      "[2, 'babaAmmar', False, 2, 'babaAmmar', False]\n",
      "[2, 'babaAmmar', False]\n",
      "[False, 'babaAmmar', 2]\n"
     ]
    }
   ],
   "source": [
    "#Creating a list2\n",
    "list2=[3,4,'ammar','codenics',478,53.3,False ]\n",
    "print(list2)\n",
    "\n",
    "#Concatinate\n",
    "print(list1+list2)\n",
    "\n",
    "#Repeating a list1 with 2 time\n",
    "print(list1*2)\n",
    "print(list1)\n",
    "\n",
    "#Reverse the list 1\n",
    "list1.reverse()\n",
    "print(list1)\n",
    "\n",
    "\n",
    "\n"
   ]
  },
  {
   "cell_type": "code",
   "execution_count": 46,
   "metadata": {},
   "outputs": [
    {
     "name": "stdout",
     "output_type": "stream",
     "text": [
      "[False, 'babaAmmar', 2, 'codenics youtube channel', 'codenics youtube channel', 'codenics youtube channel', 'codenics youtube channel', 'codenics youtube channel', 'codenics youtube channel', 'codenics youtube channel']\n"
     ]
    },
    {
     "data": {
      "text/plain": [
       "7"
      ]
     },
     "execution_count": 46,
     "metadata": {},
     "output_type": "execute_result"
    }
   ],
   "source": [
    "#append a item in a list(append mean add a item in a list because list is mututable)\n",
    "list1.append('codenics youtube channel')\n",
    "print(list1)\n",
    "#Count an item in a list that how many times they are present in a list\n",
    "list1.count('codenics youtube channel')"
   ]
  },
  {
   "cell_type": "code",
   "execution_count": 63,
   "metadata": {},
   "outputs": [
    {
     "name": "stdout",
     "output_type": "stream",
     "text": [
      "[99, 3, 5, 1000, 5, 44.4, 400, 285, 685]\n",
      "9\n",
      "[3, 5, 5, 44.4, 99, 285, 400, 685, 1000]\n"
     ]
    },
    {
     "data": {
      "text/plain": [
       "[False,\n",
       " 'babaAmmar',\n",
       " 2,\n",
       " 'codenics youtube channel',\n",
       " 'codenics youtube channel',\n",
       " 'codenics youtube channel',\n",
       " 'codenics youtube channel',\n",
       " 'codenics youtube channel',\n",
       " 'codenics youtube channel',\n",
       " 'codenics youtube channel',\n",
       " 3,\n",
       " 5,\n",
       " 5,\n",
       " 44.4,\n",
       " 99,\n",
       " 285,\n",
       " 400,\n",
       " 685,\n",
       " 1000]"
      ]
     },
     "execution_count": 63,
     "metadata": {},
     "output_type": "execute_result"
    }
   ],
   "source": [
    "#Creating a list\n",
    "list3=[99,3,5,1000,5,44.4,400,285,685]\n",
    "print(list3)\n",
    "\n",
    "#Check the length of list that how many elements are present in a list\n",
    "print(len(list3))\n",
    "\n",
    "#Sort a list(sort are used to make a sequence wise number in a list)\n",
    "list3.sort()\n",
    "print(list3)\n",
    "\n",
    "#Repeating a list\n",
    "list3*2\n",
    "\n",
    "#Concatinate\n",
    "list1+list3\n",
    "\n"
   ]
  },
  {
   "cell_type": "markdown",
   "metadata": {},
   "source": [
    "---"
   ]
  },
  {
   "cell_type": "markdown",
   "metadata": {},
   "source": [
    "### Dictionaries\n",
    " - An unordered collection of elements\n",
    " - Key and value\n",
    " - curly brackets { } use.\n",
    " - Mututable/changeable"
   ]
  },
  {
   "cell_type": "code",
   "execution_count": 83,
   "metadata": {},
   "outputs": [
    {
     "name": "stdout",
     "output_type": "stream",
     "text": [
      "{'somosa': 30, 'pokora': 50, 'raita': 20, 'salaad': 10}\n",
      "<class 'dict'>\n",
      "dict_keys(['somosa', 'pokora', 'raita', 'salaad'])\n",
      "dict_values([30, 50, 20, 10])\n"
     ]
    },
    {
     "data": {
      "text/plain": [
       "{'somosa': 30, 'pokora': 50, 'raita': 20, 'salaad': 10, 'tikii': 15}"
      ]
     },
     "execution_count": 83,
     "metadata": {},
     "output_type": "execute_result"
    }
   ],
   "source": [
    "#create a dict\n",
    "food_dict1={'somosa':30,'pokora':50,'raita':20,'salaad':10}\n",
    "print(food_dict1)\n",
    "\n",
    "#for checking the type\n",
    "print(type(food_dict1))\n",
    "\n",
    "\n",
    "#extract data\n",
    "print(food_dict1.keys())                #to check only keys present in dict\n",
    "print(food_dict1.values())              #to check only values present in dict\n",
    "\n",
    "#for adding new element in food_dict1\n",
    "food_dict1['tikii']=10\n",
    "food_dict1\n",
    "\n",
    "#update the value in food_dict1\n",
    "food_dict1['tikii']=15\n",
    "food_dict1\n",
    "\n",
    "\n",
    "\n",
    "\n"
   ]
  },
  {
   "cell_type": "code",
   "execution_count": 87,
   "metadata": {},
   "outputs": [
    {
     "data": {
      "text/plain": [
       "{'somosa': 30,\n",
       " 'pokora': 50,\n",
       " 'raita': 20,\n",
       " 'salaad': 10,\n",
       " 'tikii': 15,\n",
       " 'dates': 200,\n",
       " 'apple': 100,\n",
       " 'sawian': 30}"
      ]
     },
     "execution_count": 87,
     "metadata": {},
     "output_type": "execute_result"
    }
   ],
   "source": [
    "#Creating a food_dict2\n",
    "food_dict2={'dates':200,'apple':100,'sawian':30}\n",
    "food_dict2\n",
    "\n",
    "#concatinate\n",
    "food_dict1.update(food_dict2)\n",
    "food_dict1"
   ]
  },
  {
   "cell_type": "markdown",
   "metadata": {},
   "source": [
    "---"
   ]
  },
  {
   "cell_type": "markdown",
   "metadata": {},
   "source": [
    "### sets\n",
    " - unordered and unindexed\n",
    " - curly brackets are used { }\n",
    " - no duplicate allowed"
   ]
  },
  {
   "cell_type": "code",
   "execution_count": 95,
   "metadata": {},
   "outputs": [
    {
     "name": "stdout",
     "output_type": "stream",
     "text": [
      "{'ammar', 1, 2.2, 5.2, 'faisalabad', 'codenics'}\n",
      "{'ammar', 1, 2.2, 5.2, 'faisalabad', 'codenics'}\n",
      "{'ammar', 1, 2.2, 5.2, 'ammar1', 'faisalabad', 'codenics'}\n",
      "{'ammar', 1, 2.2, 5.2, 'faisalabad', 'codenics'}\n"
     ]
    }
   ],
   "source": [
    "#Creating a set\n",
    "set1 = {1,2.2,5.2,'ammar','codenics','faisalabad',True} #Bolean operators are not print in set\n",
    "print(set1)\n",
    "\n",
    "set1.add('ammar')  # not duplicate print\n",
    "print(set1)\n",
    "\n",
    "set1.add('ammar1')  # to add some elemant in set\n",
    "print(set1)\n",
    "\n",
    "set1.remove('ammar1')  # to remove some item in a set\n",
    "print(set1)\n"
   ]
  }
 ],
 "metadata": {
  "interpreter": {
   "hash": "2f803de3382bef910abc9436aaa18167af5ad717424472dd02421afdedc6bc3b"
  },
  "kernelspec": {
   "display_name": "Python 3.10.2 64-bit",
   "language": "python",
   "name": "python3"
  },
  "language_info": {
   "codemirror_mode": {
    "name": "ipython",
    "version": 3
   },
   "file_extension": ".py",
   "mimetype": "text/x-python",
   "name": "python",
   "nbconvert_exporter": "python",
   "pygments_lexer": "ipython3",
   "version": "3.10.2"
  },
  "orig_nbformat": 4
 },
 "nbformat": 4,
 "nbformat_minor": 2
}
